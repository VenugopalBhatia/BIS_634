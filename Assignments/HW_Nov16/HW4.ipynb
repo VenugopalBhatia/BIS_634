{
 "cells": [
  {
   "cell_type": "code",
   "execution_count": 2,
   "metadata": {},
   "outputs": [],
   "source": [
    "import numpy as np"
   ]
  },
  {
   "cell_type": "code",
   "execution_count": 86,
   "metadata": {},
   "outputs": [],
   "source": [
    "def seq_align(seq1,seq2,match = 1,gap_penalty = 1,mismatch_penalty = 1):\n",
    "    row_len = len(seq1)+1\n",
    "    col_len = len(seq2)+1\n",
    "    score_matrix = np.zeros((row_len,col_len),dtype = int)\n",
    "\n",
    "    maxScore = -1*np.inf\n",
    "    maxScore_idx = (0,0)\n",
    "    base_val = 0\n",
    "    for i in range(1,row_len):\n",
    "        for j in range(1,col_len):\n",
    "            if(seq1[i-1] == seq2[j-1]):\n",
    "                baseScore = match\n",
    "            else:\n",
    "                baseScore = -1*mismatch_penalty\n",
    "            \n",
    "\n",
    "            diagonal_score = score_matrix[i-1,j-1] + baseScore\n",
    "            gap_seq2 = score_matrix[i-1,j] - gap_penalty\n",
    "            gap_seq1 = score_matrix[i,j-1] - gap_penalty\n",
    "\n",
    "            score_matrix[i,j] = max(0,diagonal_score,gap_seq2,gap_seq1)\n",
    "\n",
    "            if(score_matrix[i,j]>maxScore):\n",
    "                maxScore = score_matrix[i,j]\n",
    "                maxScore_idx = (i,j)\n",
    "\n",
    "    return score_matrix,maxScore_idx,maxScore\n",
    "\n",
    "            \n",
    "\n",
    "def traceBack(score_matrix,maxScore_idx,sequence1,sequence2):\n",
    "    (i,j) = maxScore_idx\n",
    "    seq1 = \"\"\n",
    "    seq2 = \"\"\n",
    "    while(score_matrix[i,j]!=0):\n",
    "        \n",
    "        if((score_matrix[i-1,j-1]>=score_matrix[i-1,j]) and (score_matrix[i-1,j-1]>=score_matrix[i,j-1])):\n",
    "            \n",
    "            i = i-1\n",
    "            j = j-1\n",
    "            seq1+=sequence1[i]\n",
    "            seq2+=sequence2[j]\n",
    "            \n",
    "        elif((score_matrix[i,j-1]>=score_matrix[i-1,j-1]) and (score_matrix[i,j-1]>=score_matrix[i-1,j])):\n",
    "            \n",
    "            j = j-1\n",
    "            seq1+=\"-\"\n",
    "            seq2+=sequence2[j]\n",
    "            \n",
    "        elif((score_matrix[i-1,j]>=score_matrix[i-1,j-1]) and (score_matrix[i-1,j]>=score_matrix[i,j-1])):\n",
    "            \n",
    "            i = i-1\n",
    "            seq1+=sequence1[i]\n",
    "            seq2+=\"-\"\n",
    "            \n",
    "        \n",
    "        \n",
    "    return seq1[::-1],seq2[::-1]\n",
    "        \n",
    "def SWLocalAlignment(seq1,seq2,match = 1,gap_penalty = 1,mismatch_penalty = 1):\n",
    "    score_matrix,maxScore_idx,maxScore = seq_align(seq1,seq2,match,gap_penalty,mismatch_penalty)\n",
    "    rSeq1,rSeq2 = traceBack(score_matrix,maxScore_idx,seq1,seq2)\n",
    "    return rSeq1,rSeq2,maxScore\n",
    "\n"
   ]
  },
  {
   "cell_type": "code",
   "execution_count": 87,
   "metadata": {},
   "outputs": [
    {
     "name": "stdout",
     "output_type": "stream",
     "text": [
      "agacccta-cgt-gac\n",
      "agacc-tagcatcgac\n",
      "8\n"
     ]
    }
   ],
   "source": [
    "score_matrix,maxScore_idx,maxScore = seq_align('tgcatcgagaccctacgtgac','actagacctagcatcgac')\n",
    "seq1,seq2 = traceBack(score_matrix,maxScore_idx,'tgcatcgagaccctacgtgac','actagacctagcatcgac')\n",
    "print(seq1)\n",
    "print(seq2)\n",
    "print(maxScore)"
   ]
  },
  {
   "cell_type": "code",
   "execution_count": 88,
   "metadata": {},
   "outputs": [
    {
     "name": "stdout",
     "output_type": "stream",
     "text": [
      "agacccta-cgt-gac\n",
      "agacc-tagcatcgac\n",
      "8\n"
     ]
    }
   ],
   "source": [
    "seq1,seq2,maxScore = SWLocalAlignment('tgcatcgagaccctacgtgac','actagacctagcatcgac')\n",
    "print(seq1)\n",
    "print(seq2)\n",
    "print(maxScore)"
   ]
  },
  {
   "cell_type": "code",
   "execution_count": 89,
   "metadata": {},
   "outputs": [
    {
     "name": "stdout",
     "output_type": "stream",
     "text": [
      "gcatcga\n",
      "gcatcga\n",
      "7\n"
     ]
    }
   ],
   "source": [
    "seq1,seq2,maxScore = SWLocalAlignment('tgcatcgagaccctacgtgac', 'actagacctagcatcgac', gap_penalty=2)\n",
    "print(seq1)\n",
    "print(seq2)\n",
    "print(maxScore)"
   ]
  },
  {
   "cell_type": "markdown",
   "metadata": {},
   "source": [
    "## Tests"
   ]
  },
  {
   "cell_type": "code",
   "execution_count": 97,
   "metadata": {},
   "outputs": [],
   "source": [
    "def test_scoring(seq1,seq2,maxScore,match = 1,mismatch_penalty = 1,gap_penalty = 1):\n",
    "    score = 0\n",
    "    for i in range(len(seq1)):\n",
    "        if(seq1[i] == seq2[i]):\n",
    "            score+= match\n",
    "        elif(seq1[i] == \"-\" or seq2[i] == \"-\"):\n",
    "            score-= gap_penalty\n",
    "        elif(seq1[i]!=seq2[i]):\n",
    "            score-=mismatch_penalty\n",
    "    return maxScore == score\n",
    "\n"
   ]
  },
  {
   "cell_type": "markdown",
   "metadata": {},
   "source": [
    "#### Wrote a small test to check if the scores match on the basis of the local alignment"
   ]
  },
  {
   "cell_type": "code",
   "execution_count": 98,
   "metadata": {},
   "outputs": [
    {
     "data": {
      "text/plain": [
       "True"
      ]
     },
     "execution_count": 98,
     "metadata": {},
     "output_type": "execute_result"
    }
   ],
   "source": [
    "seq_1 = 'gcatcga'\n",
    "seq_2 = 'gcatcga'\n",
    "test_scoring(seq_1,seq_2,7,gap_penalty=2)"
   ]
  },
  {
   "cell_type": "code",
   "execution_count": 100,
   "metadata": {},
   "outputs": [],
   "source": [
    "from skbio.alignment import StripedSmithWaterman"
   ]
  },
  {
   "cell_type": "code",
   "execution_count": 130,
   "metadata": {},
   "outputs": [
    {
     "data": {
      "text/plain": [
       "{\n",
       "    'optimal_alignment_score': 8,\n",
       "    'suboptimal_alignment_score': 2,\n",
       "    'query_begin': 7,\n",
       "    'query_end': 20,\n",
       "    'target_begin': 3,\n",
       "    'target_end_optimal': 17,\n",
       "    'target_end_suboptimal': 1,\n",
       "    'cigar': '3M1I4M1D3M1D3M',\n",
       "    'query_sequence': 'tgcatcgagaccctacgtgac',\n",
       "    'target_sequence': 'actagacctagcatcgac'\n",
       "}"
      ]
     },
     "execution_count": 130,
     "metadata": {},
     "output_type": "execute_result"
    }
   ],
   "source": [
    "SW = StripedSmithWaterman('tgcatcgagaccctacgtgac',gap_open_penalty = 1,match_score = 1,mismatch_score = -1)\n",
    "SW('actagacctagcatcgac')"
   ]
  },
  {
   "cell_type": "markdown",
   "metadata": {},
   "source": [
    "#### The basis of my test is that while the individual alignments could vary the scores of the alignment should be the same. Thus for my gold standard I'm using skbio's Striped Smith Waterman algorithm, I generate random values for match score, mismatch score and mismatch penalty and 2 random sequences of size 20, I keep the gap extension penalty to be the same as gap penalty. If the scores vary an exception is raised else it keeps on iterating."
   ]
  },
  {
   "cell_type": "code",
   "execution_count": 159,
   "metadata": {},
   "outputs": [
    {
     "name": "stdout",
     "output_type": "stream",
     "text": [
      "Test  0  pass\n",
      "Test  1  pass\n",
      "Test  2  pass\n",
      "Test  3  pass\n",
      "Test  4  pass\n",
      "Test  5  pass\n",
      "Test  6  pass\n",
      "Test  7  pass\n",
      "Test  8  pass\n",
      "Test  9  pass\n",
      "Test  10  pass\n",
      "Test  11  pass\n",
      "Test  12  pass\n",
      "Test  13  pass\n",
      "Test  14  pass\n",
      "Test  15  pass\n",
      "Test  16  pass\n",
      "Test  17  pass\n",
      "Test  18  pass\n",
      "Test  19  pass\n",
      "Test  20  pass\n",
      "Test  21  pass\n",
      "Test  22  pass\n",
      "Test  23  pass\n",
      "Test  24  pass\n",
      "Test  25  pass\n",
      "Test  26  pass\n",
      "Test  27  pass\n",
      "Test  28  pass\n",
      "Test  29  pass\n",
      "Test  30  pass\n",
      "Test  31  pass\n",
      "Test  32  pass\n",
      "Test  33  pass\n",
      "Test  34  pass\n",
      "Test  35  pass\n",
      "Test  36  pass\n",
      "Test  37  pass\n",
      "Test  38  pass\n",
      "Test  39  pass\n",
      "Test  40  pass\n",
      "Test  41  pass\n",
      "Test  42  pass\n",
      "Test  43  pass\n",
      "Test  44  pass\n",
      "Test  45  pass\n",
      "Test  46  pass\n",
      "Test  47  pass\n",
      "Test  48  pass\n",
      "Test  49  pass\n",
      "Test  50  pass\n",
      "Test  51  pass\n",
      "Test  52  pass\n",
      "Test  53  pass\n",
      "Test  54  pass\n",
      "Test  55  pass\n",
      "Test  56  pass\n",
      "Test  57  pass\n",
      "Test  58  pass\n",
      "Test  59  pass\n",
      "Test  60  pass\n",
      "Test  61  pass\n",
      "Test  62  pass\n",
      "Test  63  pass\n",
      "Test  64  pass\n",
      "Test  65  pass\n",
      "Test  66  pass\n",
      "Test  67  pass\n",
      "Test  68  pass\n",
      "Test  69  pass\n",
      "Test  70  pass\n",
      "Test  71  pass\n",
      "Test  72  pass\n",
      "Test  73  pass\n",
      "Test  74  pass\n",
      "Test  75  pass\n",
      "Test  76  pass\n",
      "Test  77  pass\n",
      "Test  78  pass\n",
      "Test  79  pass\n",
      "Test  80  pass\n",
      "Test  81  pass\n",
      "Test  82  pass\n",
      "Test  83  pass\n",
      "Test  84  pass\n",
      "Test  85  pass\n",
      "Test  86  pass\n",
      "Test  87  pass\n",
      "Test  88  pass\n",
      "Test  89  pass\n",
      "Test  90  pass\n",
      "Test  91  pass\n",
      "Test  92  pass\n",
      "Test  93  pass\n",
      "Test  94  pass\n",
      "Test  95  pass\n",
      "Test  96  pass\n",
      "Test  97  pass\n",
      "Test  98  pass\n",
      "Test  99  pass\n"
     ]
    }
   ],
   "source": [
    "import random\n",
    "for i in range(100):\n",
    "    str1 = ''.join(random.choices(['a','t','g','c'], k=50))\n",
    "    str2 = ''.join(random.choices(['a','t','g','c'], k=50))\n",
    "    matchScr = random.randint(1,5)\n",
    "    gapPenalty = random.randint(1,5)\n",
    "    mismatchPenalty= random.randint(1,5)\n",
    "    custom_algo_res = SWLocalAlignment(str1,str2,match = matchScr,gap_penalty = gapPenalty,mismatch_penalty = mismatchPenalty)\n",
    "    SW = StripedSmithWaterman(str1,gap_open_penalty = gapPenalty,gap_extend_penalty = gapPenalty,match_score = matchScr,mismatch_score = -1*mismatchPenalty)\n",
    "    test_res = SW(str2)\n",
    "    if(custom_algo_res[2]!=test_res['optimal_alignment_score']):\n",
    "        print(\"Test \",i,\" error\")\n",
    "        print(str1,str2)\n",
    "        print(test_res)\n",
    "        print(matchScr,gapPenalty,mismatchPenalty,custom_algo_res)\n",
    "        raise Exception\n",
    "    else:\n",
    "        print(\"Test \",i,\" pass\")"
   ]
  }
 ],
 "metadata": {
  "interpreter": {
   "hash": "40d3a090f54c6569ab1632332b64b2c03c39dcf918b08424e98f38b5ae0af88f"
  },
  "kernelspec": {
   "display_name": "Python 3.8.8 64-bit ('base': conda)",
   "language": "python",
   "name": "python3"
  },
  "language_info": {
   "codemirror_mode": {
    "name": "ipython",
    "version": 3
   },
   "file_extension": ".py",
   "mimetype": "text/x-python",
   "name": "python",
   "nbconvert_exporter": "python",
   "pygments_lexer": "ipython3",
   "version": "3.8.8"
  },
  "orig_nbformat": 4
 },
 "nbformat": 4,
 "nbformat_minor": 2
}
