{
 "cells": [
  {
   "cell_type": "code",
   "execution_count": 1,
   "metadata": {},
   "outputs": [],
   "source": [
    "import pandas as pd\n",
    "import numpy as np\n",
    "import seaborn as sns\n",
    "import matplotlib.pyplot as plt\n",
    "from tqdm.notebook import tqdm"
   ]
  },
  {
   "cell_type": "markdown",
   "metadata": {},
   "source": [
    "#### Loading our data"
   ]
  },
  {
   "cell_type": "code",
   "execution_count": 2,
   "metadata": {},
   "outputs": [],
   "source": [
    "data_ = pd.read_excel('Files/Rice_Osmancik_Cammeo_Dataset.xlsx')"
   ]
  },
  {
   "cell_type": "code",
   "execution_count": 3,
   "metadata": {},
   "outputs": [],
   "source": [
    "y = np.array(data_.iloc[:,-1])\n"
   ]
  },
  {
   "cell_type": "code",
   "execution_count": 4,
   "metadata": {},
   "outputs": [
    {
     "data": {
      "text/html": [
       "<div>\n",
       "<style scoped>\n",
       "    .dataframe tbody tr th:only-of-type {\n",
       "        vertical-align: middle;\n",
       "    }\n",
       "\n",
       "    .dataframe tbody tr th {\n",
       "        vertical-align: top;\n",
       "    }\n",
       "\n",
       "    .dataframe thead th {\n",
       "        text-align: right;\n",
       "    }\n",
       "</style>\n",
       "<table border=\"1\" class=\"dataframe\">\n",
       "  <thead>\n",
       "    <tr style=\"text-align: right;\">\n",
       "      <th></th>\n",
       "      <th>AREA</th>\n",
       "      <th>PERIMETER</th>\n",
       "      <th>MAJORAXIS</th>\n",
       "      <th>MINORAXIS</th>\n",
       "      <th>ECCENTRICITY</th>\n",
       "      <th>CONVEX_AREA</th>\n",
       "      <th>EXTENT</th>\n",
       "    </tr>\n",
       "  </thead>\n",
       "  <tbody>\n",
       "    <tr>\n",
       "      <th>0</th>\n",
       "      <td>15231</td>\n",
       "      <td>525.578979</td>\n",
       "      <td>229.749878</td>\n",
       "      <td>85.093788</td>\n",
       "      <td>0.928882</td>\n",
       "      <td>15617</td>\n",
       "      <td>0.572896</td>\n",
       "    </tr>\n",
       "    <tr>\n",
       "      <th>1</th>\n",
       "      <td>14656</td>\n",
       "      <td>494.311005</td>\n",
       "      <td>206.020065</td>\n",
       "      <td>91.730972</td>\n",
       "      <td>0.895405</td>\n",
       "      <td>15072</td>\n",
       "      <td>0.615436</td>\n",
       "    </tr>\n",
       "    <tr>\n",
       "      <th>2</th>\n",
       "      <td>14634</td>\n",
       "      <td>501.122009</td>\n",
       "      <td>214.106781</td>\n",
       "      <td>87.768288</td>\n",
       "      <td>0.912118</td>\n",
       "      <td>14954</td>\n",
       "      <td>0.693259</td>\n",
       "    </tr>\n",
       "    <tr>\n",
       "      <th>3</th>\n",
       "      <td>13176</td>\n",
       "      <td>458.342987</td>\n",
       "      <td>193.337387</td>\n",
       "      <td>87.448395</td>\n",
       "      <td>0.891861</td>\n",
       "      <td>13368</td>\n",
       "      <td>0.640669</td>\n",
       "    </tr>\n",
       "    <tr>\n",
       "      <th>4</th>\n",
       "      <td>14688</td>\n",
       "      <td>507.166992</td>\n",
       "      <td>211.743378</td>\n",
       "      <td>89.312454</td>\n",
       "      <td>0.906691</td>\n",
       "      <td>15262</td>\n",
       "      <td>0.646024</td>\n",
       "    </tr>\n",
       "    <tr>\n",
       "      <th>...</th>\n",
       "      <td>...</td>\n",
       "      <td>...</td>\n",
       "      <td>...</td>\n",
       "      <td>...</td>\n",
       "      <td>...</td>\n",
       "      <td>...</td>\n",
       "      <td>...</td>\n",
       "    </tr>\n",
       "    <tr>\n",
       "      <th>3805</th>\n",
       "      <td>11441</td>\n",
       "      <td>415.858002</td>\n",
       "      <td>170.486771</td>\n",
       "      <td>85.756592</td>\n",
       "      <td>0.864280</td>\n",
       "      <td>11628</td>\n",
       "      <td>0.681012</td>\n",
       "    </tr>\n",
       "    <tr>\n",
       "      <th>3806</th>\n",
       "      <td>11625</td>\n",
       "      <td>421.390015</td>\n",
       "      <td>167.714798</td>\n",
       "      <td>89.462570</td>\n",
       "      <td>0.845850</td>\n",
       "      <td>11904</td>\n",
       "      <td>0.694279</td>\n",
       "    </tr>\n",
       "    <tr>\n",
       "      <th>3807</th>\n",
       "      <td>12437</td>\n",
       "      <td>442.498993</td>\n",
       "      <td>183.572922</td>\n",
       "      <td>86.801979</td>\n",
       "      <td>0.881144</td>\n",
       "      <td>12645</td>\n",
       "      <td>0.626739</td>\n",
       "    </tr>\n",
       "    <tr>\n",
       "      <th>3808</th>\n",
       "      <td>9882</td>\n",
       "      <td>392.296997</td>\n",
       "      <td>161.193985</td>\n",
       "      <td>78.210480</td>\n",
       "      <td>0.874406</td>\n",
       "      <td>10097</td>\n",
       "      <td>0.659064</td>\n",
       "    </tr>\n",
       "    <tr>\n",
       "      <th>3809</th>\n",
       "      <td>11434</td>\n",
       "      <td>404.709991</td>\n",
       "      <td>161.079269</td>\n",
       "      <td>90.868195</td>\n",
       "      <td>0.825692</td>\n",
       "      <td>11591</td>\n",
       "      <td>0.802949</td>\n",
       "    </tr>\n",
       "  </tbody>\n",
       "</table>\n",
       "<p>3810 rows × 7 columns</p>\n",
       "</div>"
      ],
      "text/plain": [
       "       AREA   PERIMETER   MAJORAXIS  MINORAXIS  ECCENTRICITY  CONVEX_AREA  \\\n",
       "0     15231  525.578979  229.749878  85.093788      0.928882        15617   \n",
       "1     14656  494.311005  206.020065  91.730972      0.895405        15072   \n",
       "2     14634  501.122009  214.106781  87.768288      0.912118        14954   \n",
       "3     13176  458.342987  193.337387  87.448395      0.891861        13368   \n",
       "4     14688  507.166992  211.743378  89.312454      0.906691        15262   \n",
       "...     ...         ...         ...        ...           ...          ...   \n",
       "3805  11441  415.858002  170.486771  85.756592      0.864280        11628   \n",
       "3806  11625  421.390015  167.714798  89.462570      0.845850        11904   \n",
       "3807  12437  442.498993  183.572922  86.801979      0.881144        12645   \n",
       "3808   9882  392.296997  161.193985  78.210480      0.874406        10097   \n",
       "3809  11434  404.709991  161.079269  90.868195      0.825692        11591   \n",
       "\n",
       "        EXTENT  \n",
       "0     0.572896  \n",
       "1     0.615436  \n",
       "2     0.693259  \n",
       "3     0.640669  \n",
       "4     0.646024  \n",
       "...        ...  \n",
       "3805  0.681012  \n",
       "3806  0.694279  \n",
       "3807  0.626739  \n",
       "3808  0.659064  \n",
       "3809  0.802949  \n",
       "\n",
       "[3810 rows x 7 columns]"
      ]
     },
     "execution_count": 4,
     "metadata": {},
     "output_type": "execute_result"
    }
   ],
   "source": [
    "data_.iloc[:,0:7]"
   ]
  },
  {
   "cell_type": "markdown",
   "metadata": {},
   "source": [
    "#### Standardize the data"
   ]
  },
  {
   "cell_type": "code",
   "execution_count": 5,
   "metadata": {},
   "outputs": [
    {
     "data": {
      "text/html": [
       "<div>\n",
       "<style scoped>\n",
       "    .dataframe tbody tr th:only-of-type {\n",
       "        vertical-align: middle;\n",
       "    }\n",
       "\n",
       "    .dataframe tbody tr th {\n",
       "        vertical-align: top;\n",
       "    }\n",
       "\n",
       "    .dataframe thead th {\n",
       "        text-align: right;\n",
       "    }\n",
       "</style>\n",
       "<table border=\"1\" class=\"dataframe\">\n",
       "  <thead>\n",
       "    <tr style=\"text-align: right;\">\n",
       "      <th></th>\n",
       "      <th>AREA</th>\n",
       "      <th>PERIMETER</th>\n",
       "      <th>MAJORAXIS</th>\n",
       "      <th>MINORAXIS</th>\n",
       "      <th>ECCENTRICITY</th>\n",
       "      <th>CONVEX_AREA</th>\n",
       "      <th>EXTENT</th>\n",
       "    </tr>\n",
       "  </thead>\n",
       "  <tbody>\n",
       "    <tr>\n",
       "      <th>count</th>\n",
       "      <td>3.810000e+03</td>\n",
       "      <td>3.810000e+03</td>\n",
       "      <td>3.810000e+03</td>\n",
       "      <td>3.810000e+03</td>\n",
       "      <td>3.810000e+03</td>\n",
       "      <td>3.810000e+03</td>\n",
       "      <td>3.810000e+03</td>\n",
       "    </tr>\n",
       "    <tr>\n",
       "      <th>mean</th>\n",
       "      <td>-2.124285e-16</td>\n",
       "      <td>-5.739940e-16</td>\n",
       "      <td>-1.181324e-16</td>\n",
       "      <td>-2.456478e-16</td>\n",
       "      <td>9.097418e-16</td>\n",
       "      <td>2.152259e-16</td>\n",
       "      <td>-4.754435e-16</td>\n",
       "    </tr>\n",
       "    <tr>\n",
       "      <th>std</th>\n",
       "      <td>1.000000e+00</td>\n",
       "      <td>1.000000e+00</td>\n",
       "      <td>1.000000e+00</td>\n",
       "      <td>1.000000e+00</td>\n",
       "      <td>1.000000e+00</td>\n",
       "      <td>1.000000e+00</td>\n",
       "      <td>1.000000e+00</td>\n",
       "    </tr>\n",
       "    <tr>\n",
       "      <th>min</th>\n",
       "      <td>-2.953604e+00</td>\n",
       "      <td>-2.672668e+00</td>\n",
       "      <td>-2.493699e+00</td>\n",
       "      <td>-4.674031e+00</td>\n",
       "      <td>-5.266589e+00</td>\n",
       "      <td>-2.942926e+00</td>\n",
       "      <td>-2.130034e+00</td>\n",
       "    </tr>\n",
       "    <tr>\n",
       "      <th>25%</th>\n",
       "      <td>-7.488177e-01</td>\n",
       "      <td>-7.892340e-01</td>\n",
       "      <td>-8.265593e-01</td>\n",
       "      <td>-6.251605e-01</td>\n",
       "      <td>-6.950351e-01</td>\n",
       "      <td>-7.463521e-01</td>\n",
       "      <td>-8.165818e-01</td>\n",
       "    </tr>\n",
       "    <tr>\n",
       "      <th>50%</th>\n",
       "      <td>-1.421335e-01</td>\n",
       "      <td>-1.513238e-01</td>\n",
       "      <td>-1.699936e-01</td>\n",
       "      <td>2.109949e-02</td>\n",
       "      <td>1.046992e-01</td>\n",
       "      <td>-1.384360e-01</td>\n",
       "      <td>-2.145634e-01</td>\n",
       "    </tr>\n",
       "    <tr>\n",
       "      <th>75%</th>\n",
       "      <td>7.401849e-01</td>\n",
       "      <td>8.271624e-01</td>\n",
       "      <td>8.467241e-01</td>\n",
       "      <td>6.684203e-01</td>\n",
       "      <td>7.550077e-01</td>\n",
       "      <td>7.493101e-01</td>\n",
       "      <td>8.367238e-01</td>\n",
       "    </tr>\n",
       "    <tr>\n",
       "      <th>max</th>\n",
       "      <td>3.605050e+00</td>\n",
       "      <td>2.646475e+00</td>\n",
       "      <td>2.878973e+00</td>\n",
       "      <td>3.704952e+00</td>\n",
       "      <td>2.936761e+00</td>\n",
       "      <td>3.458976e+00</td>\n",
       "      <td>2.577922e+00</td>\n",
       "    </tr>\n",
       "  </tbody>\n",
       "</table>\n",
       "</div>"
      ],
      "text/plain": [
       "               AREA     PERIMETER     MAJORAXIS     MINORAXIS  ECCENTRICITY  \\\n",
       "count  3.810000e+03  3.810000e+03  3.810000e+03  3.810000e+03  3.810000e+03   \n",
       "mean  -2.124285e-16 -5.739940e-16 -1.181324e-16 -2.456478e-16  9.097418e-16   \n",
       "std    1.000000e+00  1.000000e+00  1.000000e+00  1.000000e+00  1.000000e+00   \n",
       "min   -2.953604e+00 -2.672668e+00 -2.493699e+00 -4.674031e+00 -5.266589e+00   \n",
       "25%   -7.488177e-01 -7.892340e-01 -8.265593e-01 -6.251605e-01 -6.950351e-01   \n",
       "50%   -1.421335e-01 -1.513238e-01 -1.699936e-01  2.109949e-02  1.046992e-01   \n",
       "75%    7.401849e-01  8.271624e-01  8.467241e-01  6.684203e-01  7.550077e-01   \n",
       "max    3.605050e+00  2.646475e+00  2.878973e+00  3.704952e+00  2.936761e+00   \n",
       "\n",
       "        CONVEX_AREA        EXTENT  \n",
       "count  3.810000e+03  3.810000e+03  \n",
       "mean   2.152259e-16 -4.754435e-16  \n",
       "std    1.000000e+00  1.000000e+00  \n",
       "min   -2.942926e+00 -2.130034e+00  \n",
       "25%   -7.463521e-01 -8.165818e-01  \n",
       "50%   -1.384360e-01 -2.145634e-01  \n",
       "75%    7.493101e-01  8.367238e-01  \n",
       "max    3.458976e+00  2.577922e+00  "
      ]
     },
     "execution_count": 5,
     "metadata": {},
     "output_type": "execute_result"
    }
   ],
   "source": [
    "data = data_.iloc[:,0:7]\n",
    "st_data = (data - data.mean())/data.std()\n",
    "## Could have simply used StandardScaler()\n",
    "st_data.describe()"
   ]
  },
  {
   "cell_type": "code",
   "execution_count": 6,
   "metadata": {},
   "outputs": [
    {
     "data": {
      "text/html": [
       "<div>\n",
       "<style scoped>\n",
       "    .dataframe tbody tr th:only-of-type {\n",
       "        vertical-align: middle;\n",
       "    }\n",
       "\n",
       "    .dataframe tbody tr th {\n",
       "        vertical-align: top;\n",
       "    }\n",
       "\n",
       "    .dataframe thead th {\n",
       "        text-align: right;\n",
       "    }\n",
       "</style>\n",
       "<table border=\"1\" class=\"dataframe\">\n",
       "  <thead>\n",
       "    <tr style=\"text-align: right;\">\n",
       "      <th></th>\n",
       "      <th>AREA</th>\n",
       "      <th>PERIMETER</th>\n",
       "      <th>MAJORAXIS</th>\n",
       "      <th>MINORAXIS</th>\n",
       "      <th>ECCENTRICITY</th>\n",
       "      <th>CONVEX_AREA</th>\n",
       "      <th>EXTENT</th>\n",
       "    </tr>\n",
       "  </thead>\n",
       "  <tbody>\n",
       "    <tr>\n",
       "      <th>0</th>\n",
       "      <td>1.479635</td>\n",
       "      <td>2.004091</td>\n",
       "      <td>2.348238</td>\n",
       "      <td>-0.212915</td>\n",
       "      <td>2.018073</td>\n",
       "      <td>1.499463</td>\n",
       "      <td>-1.152770</td>\n",
       "    </tr>\n",
       "    <tr>\n",
       "      <th>1</th>\n",
       "      <td>1.147720</td>\n",
       "      <td>1.125705</td>\n",
       "      <td>0.988261</td>\n",
       "      <td>0.945444</td>\n",
       "      <td>0.409964</td>\n",
       "      <td>1.192761</td>\n",
       "      <td>-0.602000</td>\n",
       "    </tr>\n",
       "    <tr>\n",
       "      <th>2</th>\n",
       "      <td>1.135020</td>\n",
       "      <td>1.317041</td>\n",
       "      <td>1.451718</td>\n",
       "      <td>0.253854</td>\n",
       "      <td>1.212797</td>\n",
       "      <td>1.126356</td>\n",
       "      <td>0.405558</td>\n",
       "    </tr>\n",
       "    <tr>\n",
       "      <th>3</th>\n",
       "      <td>0.293398</td>\n",
       "      <td>0.115285</td>\n",
       "      <td>0.261405</td>\n",
       "      <td>0.198025</td>\n",
       "      <td>0.239720</td>\n",
       "      <td>0.233826</td>\n",
       "      <td>-0.275315</td>\n",
       "    </tr>\n",
       "    <tr>\n",
       "      <th>4</th>\n",
       "      <td>1.166191</td>\n",
       "      <td>1.486858</td>\n",
       "      <td>1.316269</td>\n",
       "      <td>0.523351</td>\n",
       "      <td>0.952096</td>\n",
       "      <td>1.299685</td>\n",
       "      <td>-0.205986</td>\n",
       "    </tr>\n",
       "    <tr>\n",
       "      <th>...</th>\n",
       "      <td>...</td>\n",
       "      <td>...</td>\n",
       "      <td>...</td>\n",
       "      <td>...</td>\n",
       "      <td>...</td>\n",
       "      <td>...</td>\n",
       "      <td>...</td>\n",
       "    </tr>\n",
       "    <tr>\n",
       "      <th>3805</th>\n",
       "      <td>-0.708122</td>\n",
       "      <td>-1.078211</td>\n",
       "      <td>-1.048185</td>\n",
       "      <td>-0.097238</td>\n",
       "      <td>-1.085140</td>\n",
       "      <td>-0.745367</td>\n",
       "      <td>0.246999</td>\n",
       "    </tr>\n",
       "    <tr>\n",
       "      <th>3806</th>\n",
       "      <td>-0.601909</td>\n",
       "      <td>-0.922805</td>\n",
       "      <td>-1.207050</td>\n",
       "      <td>0.549550</td>\n",
       "      <td>-1.970472</td>\n",
       "      <td>-0.590047</td>\n",
       "      <td>0.418760</td>\n",
       "    </tr>\n",
       "    <tr>\n",
       "      <th>3807</th>\n",
       "      <td>-0.133186</td>\n",
       "      <td>-0.329808</td>\n",
       "      <td>-0.298206</td>\n",
       "      <td>0.085208</td>\n",
       "      <td>-0.275063</td>\n",
       "      <td>-0.173045</td>\n",
       "      <td>-0.455671</td>\n",
       "    </tr>\n",
       "    <tr>\n",
       "      <th>3808</th>\n",
       "      <td>-1.608046</td>\n",
       "      <td>-1.740092</td>\n",
       "      <td>-1.580764</td>\n",
       "      <td>-1.414228</td>\n",
       "      <td>-0.598743</td>\n",
       "      <td>-1.606945</td>\n",
       "      <td>-0.037163</td>\n",
       "    </tr>\n",
       "    <tr>\n",
       "      <th>3809</th>\n",
       "      <td>-0.712163</td>\n",
       "      <td>-1.391383</td>\n",
       "      <td>-1.587338</td>\n",
       "      <td>0.794867</td>\n",
       "      <td>-2.938774</td>\n",
       "      <td>-0.766189</td>\n",
       "      <td>1.825707</td>\n",
       "    </tr>\n",
       "  </tbody>\n",
       "</table>\n",
       "<p>3810 rows × 7 columns</p>\n",
       "</div>"
      ],
      "text/plain": [
       "          AREA  PERIMETER  MAJORAXIS  MINORAXIS  ECCENTRICITY  CONVEX_AREA  \\\n",
       "0     1.479635   2.004091   2.348238  -0.212915      2.018073     1.499463   \n",
       "1     1.147720   1.125705   0.988261   0.945444      0.409964     1.192761   \n",
       "2     1.135020   1.317041   1.451718   0.253854      1.212797     1.126356   \n",
       "3     0.293398   0.115285   0.261405   0.198025      0.239720     0.233826   \n",
       "4     1.166191   1.486858   1.316269   0.523351      0.952096     1.299685   \n",
       "...        ...        ...        ...        ...           ...          ...   \n",
       "3805 -0.708122  -1.078211  -1.048185  -0.097238     -1.085140    -0.745367   \n",
       "3806 -0.601909  -0.922805  -1.207050   0.549550     -1.970472    -0.590047   \n",
       "3807 -0.133186  -0.329808  -0.298206   0.085208     -0.275063    -0.173045   \n",
       "3808 -1.608046  -1.740092  -1.580764  -1.414228     -0.598743    -1.606945   \n",
       "3809 -0.712163  -1.391383  -1.587338   0.794867     -2.938774    -0.766189   \n",
       "\n",
       "        EXTENT  \n",
       "0    -1.152770  \n",
       "1    -0.602000  \n",
       "2     0.405558  \n",
       "3    -0.275315  \n",
       "4    -0.205986  \n",
       "...        ...  \n",
       "3805  0.246999  \n",
       "3806  0.418760  \n",
       "3807 -0.455671  \n",
       "3808 -0.037163  \n",
       "3809  1.825707  \n",
       "\n",
       "[3810 rows x 7 columns]"
      ]
     },
     "execution_count": 6,
     "metadata": {},
     "output_type": "execute_result"
    }
   ],
   "source": [
    "st_data"
   ]
  },
  {
   "cell_type": "markdown",
   "metadata": {},
   "source": [
    "#### Apply pca"
   ]
  },
  {
   "cell_type": "code",
   "execution_count": 7,
   "metadata": {},
   "outputs": [],
   "source": [
    "from sklearn import decomposition\n",
    "pca = decomposition.PCA(n_components=2)\n",
    "data_reduced = pca.fit_transform(st_data)\n",
    "pc0 = data_reduced[:, 0]\n",
    "pc1 = data_reduced[:, 1]"
   ]
  },
  {
   "cell_type": "code",
   "execution_count": 8,
   "metadata": {},
   "outputs": [
    {
     "data": {
      "text/plain": [
       "array([[ 3.81212784, -2.16504685],\n",
       "       [ 2.47683257,  0.04529019],\n",
       "       [ 2.63820924, -0.62153372],\n",
       "       ...,\n",
       "       [-0.43662669,  0.10358082],\n",
       "       [-3.58746234, -0.37565233],\n",
       "       [-2.55575212,  3.36079599]])"
      ]
     },
     "execution_count": 8,
     "metadata": {},
     "output_type": "execute_result"
    }
   ],
   "source": [
    "data_reduced"
   ]
  },
  {
   "cell_type": "code",
   "execution_count": 9,
   "metadata": {},
   "outputs": [
    {
     "name": "stderr",
     "output_type": "stream",
     "text": [
      "/opt/anaconda3/lib/python3.8/site-packages/seaborn/_decorators.py:36: FutureWarning: Pass the following variables as keyword args: x, y. From version 0.12, the only valid positional argument will be `data`, and passing other arguments without an explicit keyword will result in an error or misinterpretation.\n",
      "  warnings.warn(\n"
     ]
    },
    {
     "data": {
      "text/plain": [
       "<AxesSubplot:>"
      ]
     },
     "execution_count": 9,
     "metadata": {},
     "output_type": "execute_result"
    },
    {
     "data": {
      "image/png": "[encoded data removed]",
      "text/plain": [
       "<Figure size 432x288 with 1 Axes>"
      ]
     },
     "metadata": {
      "needs_background": "light"
     },
     "output_type": "display_data"
    }
   ],
   "source": [
    "sns.scatterplot(pc0,pc1,hue = y)"
   ]
  },
  {
   "cell_type": "markdown",
   "metadata": {},
   "source": [
    "We can see two clear clusters here so knn would work quite well in those regions. However the boundary of the 2 clusters with pc0 in the neigbourhood of 0 and pc1 between -3 and 2 is where the predictions may be inaccurate."
   ]
  },
  {
   "cell_type": "markdown",
   "metadata": {},
   "source": [
    "#### Original method for k nearest types, new methods below"
   ]
  },
  {
   "cell_type": "code",
   "execution_count": 10,
   "metadata": {},
   "outputs": [],
   "source": [
    "def find_k_nearest_types(test_pt, known_pts, types, k):\n",
    "    test_pt = np.array(test_pt)\n",
    "    distances = [np.linalg.norm(test_pt - pt) for pt in known_pts]\n",
    "    k_smallest_indices = np.argpartition(distances, k)[:k]\n",
    "    return [types[i] for i in k_smallest_indices]"
   ]
  },
  {
   "cell_type": "markdown",
   "metadata": {},
   "source": [
    "#### Add indices to the data1 array, these are also in float but can be cast to int when we need to refer to points in the main data"
   ]
  },
  {
   "cell_type": "code",
   "execution_count": 11,
   "metadata": {},
   "outputs": [],
   "source": [
    "idxs = [i for i in range(len(pc0))]\n",
    "data1 = np.array([pc0,pc1,idxs])\n",
    "#data1 = list(zip(pc0.ravel(),pc1.ravel()))"
   ]
  },
  {
   "cell_type": "code",
   "execution_count": 12,
   "metadata": {},
   "outputs": [
    {
     "data": {
      "text/plain": [
       "array([[ 3.81212784e+00,  2.47683257e+00,  2.63820924e+00, ...,\n",
       "        -4.36626685e-01, -3.58746234e+00, -2.55575212e+00],\n",
       "       [-2.16504685e+00,  4.52901938e-02, -6.21533719e-01, ...,\n",
       "         1.03580824e-01, -3.75652326e-01,  3.36079599e+00],\n",
       "       [ 0.00000000e+00,  1.00000000e+00,  2.00000000e+00, ...,\n",
       "         3.80700000e+03,  3.80800000e+03,  3.80900000e+03]])"
      ]
     },
     "execution_count": 12,
     "metadata": {},
     "output_type": "execute_result"
    }
   ],
   "source": [
    "data1"
   ]
  },
  {
   "cell_type": "markdown",
   "metadata": {},
   "source": [
    "#### Quad tree class"
   ]
  },
  {
   "cell_type": "code",
   "execution_count": 13,
   "metadata": {},
   "outputs": [],
   "source": [
    "\n",
    "class quadTree:\n",
    "\n",
    "    def __init__(self,rect_coordinates,data_,depth_ = 0,leaf = 5):\n",
    "        #do stuff\n",
    "    \n",
    "        self.x_min = min(rect_coordinates[0][0],rect_coordinates[1][0],rect_coordinates[2][0],rect_coordinates[3][0])\n",
    "        self.x_max = max(rect_coordinates[0][0],rect_coordinates[1][0],rect_coordinates[2][0],rect_coordinates[3][0])\n",
    "        self.y_min = min(rect_coordinates[0][1],rect_coordinates[1][1],rect_coordinates[2][1],rect_coordinates[3][1])\n",
    "        self.y_max = max(rect_coordinates[0][1],rect_coordinates[1][1],rect_coordinates[2][1],rect_coordinates[3][1])\n",
    "        self.leafNode = False\n",
    "        self.depth = depth_\n",
    "        self.points = []\n",
    "        self.add(data_)\n",
    "        \n",
    "        self.numPoints = len(self.points[0])\n",
    "        \n",
    "        if(self.numPoints<=leaf):\n",
    "            self.leafNode = True\n",
    "            return\n",
    "        \n",
    "\n",
    "        self.x_median = np.median(self.points[0])\n",
    "        self.y_median = np.median(self.points[1])\n",
    "\n",
    "        # lets set the order as ul,ll,ur,lr\n",
    "        rect_coordinates_ul = [rect_coordinates[0],(self.x_min,self.y_median),(self.x_median,self.y_max),(self.x_median,self.y_median)]\n",
    "        rect_coordinates_ll = [(self.x_min,self.y_median),rect_coordinates[1],(self.x_median,self.y_median),(self.x_median,self.y_min)]\n",
    "        rect_coordinates_ur = [(self.x_median,self.y_max),(self.x_median,self.y_median),rect_coordinates[2],(self.x_max,self.y_median)]\n",
    "        rect_coordinates_lr = [(self.x_median,self.y_median),(self.x_median,self.y_min),(self.x_max,self.y_median),rect_coordinates[3]]\n",
    "\n",
    "        self.ULChild = quadTree(rect_coordinates_ul,self.points,depth_ = self.depth + 1,leaf = leaf)\n",
    "        self.LLChild = quadTree(rect_coordinates_ll,self.points,depth_ = self.depth + 1,leaf = leaf)\n",
    "        self.URChild = quadTree(rect_coordinates_ur,self.points,depth_ = self.depth + 1,leaf = leaf)\n",
    "        self.LRChild = quadTree(rect_coordinates_lr,self.points,depth_ = self.depth + 1,leaf = leaf)\n",
    "\n",
    "        self.children = [self.ULChild,self.LLChild,self.URChild,self.LRChild]\n",
    "\n",
    "        if(self.leafNode == False):\n",
    "            del self.points\n",
    "\n",
    "    def contains(self,x,y):    \n",
    "        if((self.x_min <= x) and (x < self.x_max) and (self.y_min <= y) and (y < self.y_max)):\n",
    "            return True\n",
    "        return False\n",
    "\n",
    "    def add(self,data_):\n",
    "        points_x = []\n",
    "        points_y = []\n",
    "        points_idxs = []\n",
    "        for i in range(0,len(data_[0])):\n",
    "            \n",
    "            if(self.contains(data_[0][i],data_[1][i])):\n",
    "                points_x.append(data_[0][i])\n",
    "                points_y.append(data_[1][i])\n",
    "                points_idxs.append(data_[2][i])\n",
    "        \n",
    "        self.points = np.array([points_x,points_y,points_idxs],dtype = float)\n",
    "    \n",
    "    def getPoints(self):\n",
    "        if(self.leafNode):\n",
    "            return self.points\n",
    "        \n",
    "        return np.concatenate((self.ULChild.getPoints(),self.LLChild.getPoints(),self.URChild.getPoints(),self.LRChild.getPoints()),axis = 1)\n",
    "    \n",
    "    def getDepth(self):\n",
    "        if(self.leafNode):\n",
    "            return self.depth\n",
    "        return max(self.ULChild.getDepth(),self.LLChild.getDepth(),self.URChild.getDepth(),self.LRChild.getDepth())\n",
    "        \n",
    "\n",
    "    def getDistance(self,x,y,xp,yp):\n",
    "        return np.linalg.norm((x-xp,y-yp))\n",
    "        \n",
    "    def checkBox(self,d,x,y):\n",
    "        if(self.contains(x,y)):\n",
    "            return True\n",
    "        if(x<=self.x_min):\n",
    "            #set of conditions\n",
    "            if(y<=self.y_min):\n",
    "                d_prime = self.getDistance(x,y,self.x_min,self.y_min)\n",
    "                if(d_prime<=d):\n",
    "                    return True\n",
    "            elif(y>=self.y_max):\n",
    "                d_prime = self.getDistance(x,y,self.x_min,self.y_max)\n",
    "                if(d_prime<=d):\n",
    "                    return True\n",
    "            else:\n",
    "                d_prime = self.getDistance(x,y,self.x_min,y)\n",
    "                if(d_prime<=d):\n",
    "                    return True\n",
    "\n",
    "        elif(x>self.x_max):\n",
    "            #set of conditions\n",
    "            if(y<=self.y_min):\n",
    "                d_prime = self.getDistance(x,y,self.x_max,self.y_min)\n",
    "                if(d_prime<=d):\n",
    "                    return True\n",
    "            elif(y>=self.y_max):\n",
    "                d_prime = self.getDistance(x,y,self.x_max,self.y_max)\n",
    "                if(d_prime<=d):\n",
    "                    return True\n",
    "            else:\n",
    "                d_prime = self.getDistance(x,y,self.x_max,y)\n",
    "                if(d_prime<=d):\n",
    "                    return True\n",
    "\n",
    "        else:\n",
    "            if(y<=self.y_min):\n",
    "                d_prime = self.getDistance(x,y,x,self.y_min)\n",
    "                if(d_prime<=d):\n",
    "                    return True\n",
    "            elif(y>=self.y_min):\n",
    "                d_prime = self.getDistance(x,y,x,self.y_max)\n",
    "                if(d_prime<=d):\n",
    "                    return True\n",
    "\n",
    "        return False\n",
    "    \n",
    "\n",
    "    def leaves_within_distance(self,d,x,y):\n",
    "        if(self.leafNode):\n",
    "            if(self.checkBox(d,x,y)):\n",
    "                return self.points\n",
    "            else:\n",
    "                return np.array([[],[],[]])\n",
    "        return np.concatenate((self.ULChild.leaves_within_distance(d,x,y),self.LLChild.leaves_within_distance(d,x,y),self.URChild.leaves_within_distance(d,x,y),self.LRChild.leaves_within_distance(d,x,y)),axis = 1)\n",
    "    \n",
    "    def getFirstBox(self,k,x,y):\n",
    "        if(self.leafNode):\n",
    "            return self\n",
    "        # if((self.contains(x,y)) and (self.numPoints >= k) and ((self.leafNode) or (min(self.children[0].numPoints,self.children[1].numPoints,self.children[2].numPoints,self.children[3].numPoints)<k))):\n",
    "        #     return self\n",
    "        \n",
    "        for child in self.children:\n",
    "            \n",
    "            if(child.contains(x,y)):\n",
    "                \n",
    "                if(child.numPoints>=k):\n",
    "                    return child.getFirstBox(k,x,y)\n",
    "                else:\n",
    "                    return self\n",
    "            \n",
    "\n",
    "       \n",
    "\n"
   ]
  },
  {
   "cell_type": "code",
   "execution_count": 14,
   "metadata": {},
   "outputs": [],
   "source": [
    "def getQuadTree(data1,leaf = 5):\n",
    "    xmin = min(data1[0]) - 2\n",
    "    xmax = max(data1[0]) + 2\n",
    "    ymin = min(data1[1]) - 2\n",
    "    ymax = max(data1[1]) + 2\n",
    "    rect_coordinates = [(xmin,ymax),(xmin,ymin),(xmax,ymax),(xmax,ymin)]\n",
    "    q1 = quadTree(rect_coordinates,data1,depth_ = 0,leaf=leaf)\n",
    "    return q1"
   ]
  },
  {
   "cell_type": "code",
   "execution_count": 15,
   "metadata": {},
   "outputs": [],
   "source": [
    "def k_nearest_neighbours_quad(k,x,y,quad_tree):\n",
    "   BoundingBox = quad_tree.getFirstBox(k,x,y)\n",
    "   points_ =  BoundingBox.getPoints()\n",
    "   distances = []\n",
    "   #print(len(points_[0]))\n",
    "   for i in range(len(points_[0])):\n",
    "      dist = BoundingBox.getDistance(x,y,points_[0][i],points_[1][i])\n",
    "      distances.append(dist)\n",
    "   k_smallest_indices = np.argpartition(distances, k-1)[:k]\n",
    "   \n",
    "   #print(k_smallest_indices,distances,distances[k_smallest_indices[-1]])\n",
    "   kth_dist = distances[k_smallest_indices[-1]]\n",
    "\n",
    "   points2 = quad_tree.leaves_within_distance(kth_dist,x,y)\n",
    "   #print(len(points2[0]))\n",
    "   distances2 = []\n",
    "   for j in range(len(points2[0])):\n",
    "      dist = BoundingBox.getDistance(x,y,points2[0][j],points2[1][j])\n",
    "      distances2.append(dist)\n",
    "   k_smallest_indices_2 = np.argpartition(distances2, k-1)[:k]\n",
    "\n",
    "   #print(k_smallest_indices_2,distances2,distances2[k_smallest_indices_2[-1]])\n",
    "\n",
    "   vals = [points2[:,i] for i in k_smallest_indices_2]\n",
    "\n",
    "   return vals\n",
    "      \n",
    "    \n",
    "       \n",
    "      \n",
    "    "
   ]
  },
  {
   "cell_type": "code",
   "execution_count": 16,
   "metadata": {},
   "outputs": [],
   "source": [
    "def get_Indices(arr_points):\n",
    "    idx_arr = []\n",
    "    for i in range(len(arr_points)):\n",
    "        idx_arr.append(int(arr_points[i][2]))\n",
    "    return np.array(idx_arr,dtype = int)"
   ]
  },
  {
   "cell_type": "code",
   "execution_count": 17,
   "metadata": {},
   "outputs": [],
   "source": [
    "\n",
    "def find_k_nearest_points(k,known_pts,x,y):\n",
    "    test_pt = np.array([[x,y]])\n",
    "    distances = []\n",
    "    #print(len(known_pts[0]))\n",
    "    for i in range(len(known_pts[0])):\n",
    "        pt = known_pts[:,i]\n",
    "        #print(pt)\n",
    "        distances.append(np.linalg.norm(test_pt - pt))\n",
    "    \n",
    "    \n",
    "    k_smallest_indices = np.argpartition(distances, k)[:k]\n",
    "    return k_smallest_indices,distances\n"
   ]
  },
  {
   "cell_type": "code",
   "execution_count": 18,
   "metadata": {},
   "outputs": [],
   "source": [
    "def get_majority_vote(y):\n",
    "    values,counts = np.unique(y,return_counts=True)\n",
    "    #print(values)\n",
    "    #print(counts)\n",
    "    idx = np.argmax(counts)\n",
    "    return values[idx]"
   ]
  },
  {
   "cell_type": "markdown",
   "metadata": {},
   "source": [
    "#### Create a dummy dataset and see how k nearest types versus k nearest types quad perform"
   ]
  },
  {
   "cell_type": "code",
   "execution_count": 19,
   "metadata": {},
   "outputs": [
    {
     "name": "stderr",
     "output_type": "stream",
     "text": [
      "<ipython-input-19-5cc0d2be1f96>:4: RuntimeWarning: overflow encountered in power\n",
      "  data_lst.append(data1**i)\n"
     ]
    }
   ],
   "source": [
    "data_lst = []\n",
    "data_lst.append(data1)\n",
    "for i in range(2,100):\n",
    "    data_lst.append(data1**i)\n",
    "data_smpl = np.concatenate(data_lst,axis = 1)\n",
    "idxs_smpl = [i for i in range(len(data_smpl[0]))]\n",
    "data_smpl[2] = idxs_smpl\n",
    "len(data_smpl[0])\n",
    "q1 = getQuadTree(data_smpl,10)"
   ]
  },
  {
   "cell_type": "code",
   "execution_count": 20,
   "metadata": {},
   "outputs": [],
   "source": [
    "vals_knn = k_nearest_neighbours_quad(10,1,1,q1)\n"
   ]
  },
  {
   "cell_type": "code",
   "execution_count": 21,
   "metadata": {},
   "outputs": [],
   "source": [
    "k_smallest_indexes_quad = get_Indices(vals_knn)"
   ]
  },
  {
   "cell_type": "code",
   "execution_count": 22,
   "metadata": {},
   "outputs": [],
   "source": [
    "k_smallest_indexes,distances = find_k_nearest_points(10,data_smpl[0:2,:],1,1)"
   ]
  },
  {
   "cell_type": "code",
   "execution_count": 23,
   "metadata": {},
   "outputs": [
    {
     "name": "stdout",
     "output_type": "stream",
     "text": [
      "0.050137238088751056\n",
      "0.08264583002760541\n",
      "0.056338711330301314\n",
      "0.07833990940038524\n",
      "0.07445246695304221\n",
      "0.09079220333312102\n",
      "0.09188489225099136\n",
      "0.09231077236449849\n",
      "0.09776978387222908\n",
      "0.10222962609541762\n"
     ]
    }
   ],
   "source": [
    "data_pts = []\n",
    "for i in k_smallest_indexes:\n",
    "    data_pts.append(np.array(data_smpl[:,i]))\n",
    "    print(distances[i])"
   ]
  },
  {
   "cell_type": "markdown",
   "metadata": {},
   "source": [
    "#### Data points from the k nearest points method"
   ]
  },
  {
   "cell_type": "code",
   "execution_count": 24,
   "metadata": {},
   "outputs": [
    {
     "data": {
      "text/plain": [
       "[array([9.97511089e-01, 9.49924577e-01, 3.41700000e+03]),\n",
       " array([  1.07661938,   1.03098071, 146.        ]),\n",
       " array([9.9300295e-01, 9.4409748e-01, 6.1670000e+03]),\n",
       " array([  0.92376849,   0.98194734, 188.        ]),\n",
       " array([9.79872344e-01, 9.28319826e-01, 6.69000000e+03]),\n",
       " array([1.05736489e+00, 1.07037395e+00, 3.04000000e+03]),\n",
       " array([9.19232347e-01, 9.56188819e-01, 7.52100000e+03]),\n",
       " array([9.47483067e-01, 9.24083925e-01, 2.64200000e+03]),\n",
       " array([9.95028372e-01, 9.02356702e-01, 7.22700000e+03]),\n",
       " array([9.17814338e-01, 1.06079814e+00, 7.35000000e+03])]"
      ]
     },
     "execution_count": 24,
     "metadata": {},
     "output_type": "execute_result"
    }
   ],
   "source": [
    "data_pts"
   ]
  },
  {
   "cell_type": "markdown",
   "metadata": {},
   "source": [
    "#### Data points from the k nearest neigbours quad method"
   ]
  },
  {
   "cell_type": "code",
   "execution_count": 25,
   "metadata": {},
   "outputs": [
    {
     "data": {
      "text/plain": [
       "[array([  0.92376849,   0.98194734, 188.        ]),\n",
       " array([9.79872344e-01, 9.28319826e-01, 6.69000000e+03]),\n",
       " array([  1.07661938,   1.03098071, 146.        ]),\n",
       " array([9.9300295e-01, 9.4409748e-01, 6.1670000e+03]),\n",
       " array([9.97511089e-01, 9.49924577e-01, 3.41700000e+03]),\n",
       " array([1.05736489e+00, 1.07037395e+00, 3.04000000e+03]),\n",
       " array([9.19232347e-01, 9.56188819e-01, 7.52100000e+03]),\n",
       " array([9.47483067e-01, 9.24083925e-01, 2.64200000e+03]),\n",
       " array([9.95028372e-01, 9.02356702e-01, 7.22700000e+03]),\n",
       " array([9.17814338e-01, 1.06079814e+00, 7.35000000e+03])]"
      ]
     },
     "execution_count": 25,
     "metadata": {},
     "output_type": "execute_result"
    }
   ],
   "source": [
    "vals_knn"
   ]
  },
  {
   "cell_type": "code",
   "execution_count": 26,
   "metadata": {},
   "outputs": [
    {
     "data": {
      "text/plain": [
       "array([3417,  146, 6167,  188, 6690, 3040, 7521, 2642, 7227, 7350])"
      ]
     },
     "execution_count": 26,
     "metadata": {},
     "output_type": "execute_result"
    }
   ],
   "source": [
    "k_smallest_indexes"
   ]
  },
  {
   "cell_type": "code",
   "execution_count": 27,
   "metadata": {},
   "outputs": [
    {
     "data": {
      "text/plain": [
       "array([ 188, 6690,  146, 6167, 3417, 3040, 7521, 2642, 7227, 7350])"
      ]
     },
     "execution_count": 27,
     "metadata": {},
     "output_type": "execute_result"
    }
   ],
   "source": [
    "k_smallest_indexes_quad"
   ]
  },
  {
   "cell_type": "markdown",
   "metadata": {},
   "source": [
    "#### Check if both are equal"
   ]
  },
  {
   "cell_type": "code",
   "execution_count": 28,
   "metadata": {},
   "outputs": [
    {
     "data": {
      "text/plain": [
       "True"
      ]
     },
     "execution_count": 28,
     "metadata": {},
     "output_type": "execute_result"
    }
   ],
   "source": [
    "np.array_equal(np.sort(k_smallest_indexes_quad),np.sort(k_smallest_indexes))"
   ]
  },
  {
   "cell_type": "markdown",
   "metadata": {},
   "source": [
    "#### Lets work with our own actual data"
   ]
  },
  {
   "cell_type": "code",
   "execution_count": 29,
   "metadata": {},
   "outputs": [],
   "source": [
    "q2 = getQuadTree(data1)"
   ]
  },
  {
   "cell_type": "code",
   "execution_count": 30,
   "metadata": {},
   "outputs": [],
   "source": [
    "from sklearn.model_selection import KFold"
   ]
  },
  {
   "cell_type": "code",
   "execution_count": 31,
   "metadata": {},
   "outputs": [],
   "source": [
    "kfold = KFold(5,shuffle = True,random_state = 1)"
   ]
  },
  {
   "cell_type": "markdown",
   "metadata": {},
   "source": [
    "#### k = 5 and k = 1"
   ]
  },
  {
   "cell_type": "code",
   "execution_count": 32,
   "metadata": {},
   "outputs": [
    {
     "data": {
      "application/vnd.jupyter.widget-view+json": {
       "model_id": "c1616992e4194390b192400b90c2dd41",
       "version_major": 2,
       "version_minor": 0
      },
      "text/plain": [
       "0it [00:00, ?it/s]"
      ]
     },
     "metadata": {},
     "output_type": "display_data"
    },
    {
     "data": {
      "application/vnd.jupyter.widget-view+json": {
       "model_id": "f59ac0a2cc7c431187f34be31f254e2c",
       "version_major": 2,
       "version_minor": 0
      },
      "text/plain": [
       "  0%|          | 0/762 [00:00<?, ?it/s]"
      ]
     },
     "metadata": {},
     "output_type": "display_data"
    },
    {
     "data": {
      "application/vnd.jupyter.widget-view+json": {
       "model_id": "7341fc42fb6d49c6b5cf4e0d0e9e9190",
       "version_major": 2,
       "version_minor": 0
      },
      "text/plain": [
       "  0%|          | 0/762 [00:00<?, ?it/s]"
      ]
     },
     "metadata": {},
     "output_type": "display_data"
    },
    {
     "data": {
      "application/vnd.jupyter.widget-view+json": {
       "model_id": "b800ab34650a4e2e8d79038bfcc3f17b",
       "version_major": 2,
       "version_minor": 0
      },
      "text/plain": [
       "  0%|          | 0/762 [00:00<?, ?it/s]"
      ]
     },
     "metadata": {},
     "output_type": "display_data"
    },
    {
     "data": {
      "application/vnd.jupyter.widget-view+json": {
       "model_id": "95292e69df51470a99f355e7ecbb6a77",
       "version_major": 2,
       "version_minor": 0
      },
      "text/plain": [
       "  0%|          | 0/762 [00:00<?, ?it/s]"
      ]
     },
     "metadata": {},
     "output_type": "display_data"
    },
    {
     "data": {
      "application/vnd.jupyter.widget-view+json": {
       "model_id": "9db1f182f1c1446eb67e4316cc829dc0",
       "version_major": 2,
       "version_minor": 0
      },
      "text/plain": [
       "  0%|          | 0/762 [00:00<?, ?it/s]"
      ]
     },
     "metadata": {},
     "output_type": "display_data"
    }
   ],
   "source": [
    "cat_pred_vals_5 = []\n",
    "cat_true_vals_5 = []\n",
    "counter = 0\n",
    "vals_g_5 = []\n",
    "\n",
    "cat_pred_vals_1 = []\n",
    "cat_true_vals_1 = []\n",
    "vals_g_1 = []\n",
    "\n",
    "pca = decomposition.PCA(n_components=2)\n",
    "\n",
    "\n",
    "for train,test in tqdm(kfold.split(data1[2])):\n",
    "    train_data_raw = data_.iloc[train,0:7]\n",
    "    test_data_raw = data_.iloc[test,0:7]\n",
    "    st_train_data = (train_data_raw - train_data_raw.mean())/train_data_raw.std()\n",
    "    st_test_data = (test_data_raw - train_data_raw.mean())/train_data_raw.std()\n",
    "    ## Could have simply used StandardScaler()\n",
    "    \n",
    "    train_data_reduced = pca.fit_transform(st_train_data)\n",
    "    test_data_reduced = pca.transform(st_test_data)\n",
    "    train_data = np.array([train_data_reduced[:,0],train_data_reduced[:,1],train])\n",
    "    test_data = np.array([test_data_reduced[:,0],test_data_reduced[:,1],test])\n",
    "    \n",
    "    q_train = getQuadTree(train_data)\n",
    "    \n",
    "    for i in tqdm(test):\n",
    "        \n",
    "        vals_5 = k_nearest_neighbours_quad(5,test_data[0,test_data[2] == i],test_data[1,test_data[2] == i],q_train)\n",
    "        vals_1 = k_nearest_neighbours_quad(1,test_data[0,test_data[2] == i],test_data[1,test_data[2] == i],q_train)\n",
    "        # except:\n",
    "        #     print(vals)\n",
    "        #     break\n",
    "        vals_g_5.append(vals_5)\n",
    "        k_smallest_indices_5 = get_Indices(vals_5)\n",
    "\n",
    "        vals_g_1.append(vals_1)\n",
    "        k_smallest_indices_1 = get_Indices(vals_1)\n",
    "        #print(k_smallest_indices)\n",
    "\n",
    "        y_smpl_5 = y[k_smallest_indices_5]\n",
    "        cat_pred_5 = get_majority_vote(y_smpl_5)\n",
    "        cat_true_5 = y[i]\n",
    "        cat_pred_vals_5.append(cat_pred_5)\n",
    "        cat_true_vals_5.append(cat_true_5)\n",
    "\n",
    "        y_smpl_1 = y[k_smallest_indices_1]\n",
    "        cat_pred_1 = get_majority_vote(y_smpl_1)\n",
    "        cat_true_1 = y[i]\n",
    "        cat_pred_vals_1.append(cat_pred_1)\n",
    "        cat_true_vals_1.append(cat_true_1)\n",
    "        \n",
    "    \n",
    "    \n",
    "    counter+=1\n",
    "\n",
    "    \n",
    "        \n",
    "        \n",
    "   "
   ]
  },
  {
   "cell_type": "code",
   "execution_count": 34,
   "metadata": {},
   "outputs": [],
   "source": [
    "from sklearn.metrics import confusion_matrix\n",
    "confusionMatrix_5 = confusion_matrix(cat_true_vals_5,cat_pred_vals_5)\n",
    "confusionMatrix_1 = confusion_matrix(cat_true_vals_1,cat_pred_vals_1)"
   ]
  },
  {
   "cell_type": "code",
   "execution_count": 40,
   "metadata": {},
   "outputs": [
    {
     "data": {
      "text/plain": [
       "array([[1464,  166],\n",
       "       [ 163, 2017]])"
      ]
     },
     "execution_count": 40,
     "metadata": {},
     "output_type": "execute_result"
    }
   ],
   "source": [
    "confusionMatrix_5"
   ]
  },
  {
   "cell_type": "markdown",
   "metadata": {},
   "source": [
    "The confusion matrix gives us true positives , false positives, true negatives and false negatives. We can use these to calculate precision and recall. \n",
    "The recall tells us of all positive values how many was the model able to \"recall\" correctly, its formula is given by recall = tp/tp+fn.\n",
    "The precision tells us how many of the values classified by the classifier are actually positive, its formula is tp/tp+fp."
   ]
  },
  {
   "cell_type": "code",
   "execution_count": 38,
   "metadata": {},
   "outputs": [],
   "source": [
    "def calculateMetrics(confusionMatrix):\n",
    "    recall = confusionMatrix[0][0]/(confusionMatrix[0][0] + confusionMatrix[1][0])\n",
    "    precision = confusionMatrix[0][0]/(confusionMatrix[0][0] + confusionMatrix[0][1])\n",
    "\n",
    "    return precision,recall\n"
   ]
  },
  {
   "cell_type": "code",
   "execution_count": 39,
   "metadata": {},
   "outputs": [
    {
     "data": {
      "text/plain": [
       "(0.898159509202454, 0.8998156115550092)"
      ]
     },
     "execution_count": 39,
     "metadata": {},
     "output_type": "execute_result"
    }
   ],
   "source": [
    "calculateMetrics(confusionMatrix_5)"
   ]
  },
  {
   "cell_type": "code",
   "execution_count": 41,
   "metadata": {},
   "outputs": [
    {
     "data": {
      "text/plain": [
       "(0.8656441717791411, 0.8699136868064118)"
      ]
     },
     "execution_count": 41,
     "metadata": {},
     "output_type": "execute_result"
    }
   ],
   "source": [
    "calculateMetrics(confusionMatrix_1)"
   ]
  },
  {
   "cell_type": "markdown",
   "metadata": {},
   "source": [
    "Precision and Recall values are 3% better for k = 5, k = 1"
   ]
  }
 ],
 "metadata": {
  "interpreter": {
   "hash": "40d3a090f54c6569ab1632332b64b2c03c39dcf918b08424e98f38b5ae0af88f"
  },
  "kernelspec": {
   "display_name": "Python 3.8.8 64-bit ('base': conda)",
   "language": "python",
   "name": "python3"
  },
  "language_info": {
   "codemirror_mode": {
    "name": "ipython",
    "version": 3
   },
   "file_extension": ".py",
   "mimetype": "text/x-python",
   "name": "python",
   "nbconvert_exporter": "python",
   "pygments_lexer": "ipython3",
   "version": "3.8.8"
  },
  "orig_nbformat": 4
 },
 "nbformat": 4,
 "nbformat_minor": 2
}
