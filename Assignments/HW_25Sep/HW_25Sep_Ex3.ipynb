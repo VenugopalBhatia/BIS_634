{
 "cells": [
  {
   "cell_type": "markdown",
   "source": [
    "## Here what's probably gone wrong is that the user loaded the entire file into memory and then is iterating through it line by line and appending weights to a list.\n",
    "\n",
    "#### Possible remedies:\n",
    "\n",
    "* One possible issue could be that 32-bit python has access to about just 4 GB data at a time, so switching over to 64-bit could help\n",
    "* The user seems to be using lists, switching over to np arrays with dtype float could help bring down the overhead associated with storing float values in a list"
   ],
   "metadata": {}
  }
 ],
 "metadata": {
  "orig_nbformat": 4,
  "language_info": {
   "name": "python"
  }
 },
 "nbformat": 4,
 "nbformat_minor": 2
}