{
 "cells": [
  {
   "cell_type": "code",
   "execution_count": 1,
   "source": [
    "import re\n",
    "from Bio import SeqIO\n",
    "from tqdm.notebook import tqdm\n",
    "import numpy as np\n",
    "import pandas as pd\n",
    "import seaborn as sns\n",
    "from matplotlib import pyplot as plt\n",
    "import statistics"
   ],
   "outputs": [],
   "metadata": {}
  },
  {
   "cell_type": "code",
   "execution_count": 29,
   "source": [
    "seq_ = 0\n",
    "seq_string = \"\"\n",
    "human_genome = SeqIO.parse(\"files/GCA_000001405.28_GRCh38.p13_genomic.fna\", \"fasta\")\n",
    "for chromosome in human_genome:\n",
    "    if chromosome.name == \"CM000664.2\":\n",
    "        seq_string = str(chromosome.seq).lower()\n",
    "        seq_ = seq_string.encode('utf8')\n",
    "        break"
   ],
   "outputs": [],
   "metadata": {}
  },
  {
   "cell_type": "code",
   "execution_count": 30,
   "source": [
    "# Counting ns at the beginning and end of the string\n",
    "print(\"number of ns in first 10000 bases: \",seq_string[:10000].count('n'))\n",
    "print(\"number of ns in last 10000 bases: \",seq_string[-10000:].count('n'))"
   ],
   "outputs": [
    {
     "output_type": "stream",
     "name": "stdout",
     "text": [
      "number of ns in first 10000 bases:  10000\n",
      "number of ns in last 10000 bases:  10000\n"
     ]
    }
   ],
   "metadata": {}
  },
  {
   "cell_type": "code",
   "execution_count": 31,
   "source": [
    "seq_string = seq_string[9999:-9999] #first and last 10000 bps are n's but will leave one n at the beginning and one n at the end.\n",
    "seq_ = seq_[9999:-9999]"
   ],
   "outputs": [],
   "metadata": {}
  },
  {
   "cell_type": "code",
   "execution_count": 32,
   "source": [
    "from hashlib import sha256\n",
    "p = 2_549_536_629_329\n",
    "bits_48 = 2 ** 48 - 1\n",
    "scale = 0x07ffffffff\n",
    "\n",
    "def getshavalues(subseq):\n",
    "    return int(sha256(subseq).hexdigest(), 16) % bits_48\n",
    "def hash_fn(sha_value,a):\n",
    "    return ((sha_value * a) % p) & scale"
   ],
   "outputs": [],
   "metadata": {}
  },
  {
   "cell_type": "code",
   "execution_count": 33,
   "source": [
    "# One pass quicker method to achieve the splits\n",
    "# Using a list here instead of np array since np array append creates a copy of the list while list append adds to the original list. Will convert the final list of sha values to an np array.\n",
    "def getNmers(seq_,interval = 15):\n",
    "    seqb_sha_values = []\n",
    "    counter_ = 0\n",
    "    for i in range(len(seq_) - interval + 1):\n",
    "        nmerb = seq_[i:i+interval]\n",
    "        counter_+=1\n",
    "        #print(nmer)\n",
    "        if((nmerb.count(b\"n\")>2)):\n",
    "            # print(nmer)\n",
    "            # print(nmerb)\n",
    "            pass\n",
    "        else:\n",
    "            nmerb_sha = getshavalues(nmerb)\n",
    "            seqb_sha_values.append(nmerb_sha)\n",
    "    return seqb_sha_values,counter_\n",
    "\n",
    "lst_finalb,sequence_count = getNmers(seq_)"
   ],
   "outputs": [],
   "metadata": {}
  },
  {
   "cell_type": "code",
   "execution_count": 34,
   "source": [
    "print(\"Total nmers with more than 2 ns included:\",sequence_count)\n",
    "print(\"Total 15mers with duplicates but without nmers with >2ns :\",len(lst_finalb))"
   ],
   "outputs": [
    {
     "output_type": "stream",
     "name": "stdout",
     "text": [
      "Total nmers with more than 2 ns included: 242173517\n",
      "Total 15mers with duplicates but without nmers with >2ns : 240548029\n"
     ]
    }
   ],
   "metadata": {}
  },
  {
   "cell_type": "code",
   "execution_count": 35,
   "source": [
    "## Convert lst_finalb to np array\n",
    "lst_finalb = np.array(lst_finalb,int)"
   ],
   "outputs": [],
   "metadata": {}
  },
  {
   "cell_type": "markdown",
   "source": [
    "## Run tests on smaller pieces of data\n",
    "## Ran the test 100 times and take mean of values generated in the tests. I used the following 2 methods to test:\n",
    "#### For the test I thought I should randomly pull 100 sha values from lst_finalb, compute for each sha value, the 100 hashes, and for each hash function we store the minimum most value, to estimate unique elements we take the average of these hash values, subtract one from inverse of average and see how deviated that value is from 100.\n",
    "\n",
    "#### The other test is to take calculate estimate based on each hash value, and take median of these values.\n",
    "\n",
    "* method 1: 1/avg(hash_values) - 1\n",
    "* method 2: median(1/hash_value - 1 for all hash_values)\n"
   ],
   "metadata": {}
  },
  {
   "cell_type": "code",
   "execution_count": 141,
   "source": [
    "deviations_avg_method = []\n",
    "deviations_estimates_method = []\n",
    "for i in tqdm(range(100)):\n",
    "    sample_sha_vals = np.random.choice(lst_finalb,100)\n",
    "    min_hashes = []\n",
    "    for i in range(1,101):\n",
    "        min_ = np.inf\n",
    "        for j in sample_sha_vals:\n",
    "            hshval = hash_fn(j,i)\n",
    "            hshval/=scale\n",
    "            if(hshval<min_):\n",
    "                #print(hshval,\" i \",i)\n",
    "                min_ = hshval\n",
    "        min_hashes.append(min_)\n",
    "    min_hashes = sorted(min_hashes)\n",
    "    estimates_ = [(1/min_hash) -1 for min_hash in min_hashes]\n",
    "    median_estimate = statistics.median(estimates_)\n",
    "    deviations_estimates_method.append(median_estimate)\n",
    "    mean_val = len(min_hashes)/sum(min_hashes) - 1\n",
    "    deviations_avg_method.append(mean_val)\n",
    "print(\"Thus estimate based on inverse of average hash value is:\", statistics.mean(deviations_avg_method))\n",
    "print(\"Thus estimate based on median of estimate of each individual hash value is:\", statistics.mean(deviations_estimates_method))"
   ],
   "outputs": [
    {
     "output_type": "display_data",
     "data": {
      "application/vnd.jupyter.widget-view+json": {
       "version_major": 2,
       "version_minor": 0,
       "model_id": "2a0175fb685747cdb19856b6589c47c5"
      },
      "text/plain": [
       "  0%|          | 0/100 [00:00<?, ?it/s]"
      ]
     },
     "metadata": {}
    },
    {
     "output_type": "stream",
     "name": "stdout",
     "text": [
      "Thus estimate based on inverse of average hash value is: 101.83709212553349\n",
      "Thus estimate based on median of estimate of each individual hash value is: 150.6541031693754\n"
     ]
    }
   ],
   "metadata": {}
  },
  {
   "cell_type": "code",
   "execution_count": 36,
   "source": [
    "min_hashes = []\n",
    "for i in tqdm(range(1,101)):\n",
    "    min_ = np.inf\n",
    "    for j in lst_finalb:\n",
    "        hshval = hash_fn(j,i)\n",
    "        hshval/=scale\n",
    "        if(hshval<min_):\n",
    "            #print(hshval,\" i \",i)\n",
    "            min_ = hshval\n",
    "    min_hashes.append(min_)\n",
    "\n"
   ],
   "outputs": [
    {
     "output_type": "display_data",
     "data": {
      "application/vnd.jupyter.widget-view+json": {
       "version_major": 2,
       "version_minor": 0,
       "model_id": "4a61e1ba0c7b4f50bbd142f4fbc072d4"
      },
      "text/plain": [
       "  0%|          | 0/100 [00:00<?, ?it/s]"
      ]
     },
     "metadata": {}
    }
   ],
   "metadata": {}
  },
  {
   "cell_type": "code",
   "execution_count": 52,
   "source": [
    "import csv\n",
    "file = open('hashes.csv', 'w', newline ='')\n",
    "\n",
    "with file:    \n",
    "    write = csv.writer(file)\n",
    "    write.writerows(map(lambda x: [x], min_hashes))"
   ],
   "outputs": [],
   "metadata": {}
  },
  {
   "cell_type": "markdown",
   "source": [
    "* min(hxi) = 1/m+1 => m = 1/min(hxi) - 1"
   ],
   "metadata": {}
  },
  {
   "cell_type": "code",
   "execution_count": 81,
   "source": [
    "print(\"Upper bound of estimate\",1/min(min_hashes) - 1)\n",
    "print(\"lower bound of estimate\",1/max(min_hashes) - 1)"
   ],
   "outputs": [
    {
     "output_type": "stream",
     "name": "stdout",
     "text": [
      "Upper bound of estimate 11453246121.333334\n",
      "lower bound of estimate 37633885.491785325\n"
     ]
    }
   ],
   "metadata": {}
  },
  {
   "cell_type": "code",
   "execution_count": 54,
   "source": [
    "## True number of unique elements\n",
    "len(np.unique(lst_finalb))"
   ],
   "outputs": [
    {
     "output_type": "execute_result",
     "data": {
      "text/plain": [
       "145002727"
      ]
     },
     "metadata": {},
     "execution_count": 54
    }
   ],
   "metadata": {}
  },
  {
   "cell_type": "code",
   "execution_count": 57,
   "source": [
    "## Sorting hashvalue list, will maintain original order in min_hashes_unsorted\n",
    "min_hashes = sorted(min_hashes)"
   ],
   "outputs": [],
   "metadata": {}
  },
  {
   "cell_type": "code",
   "execution_count": 77,
   "source": [
    "min_hashes_unsorted = list(np.genfromtxt('hashes.csv',delimiter=','))\n",
    "min_hashes_unsorted"
   ],
   "outputs": [
    {
     "output_type": "execute_result",
     "data": {
      "text/plain": [
       "[1.5133991837941983e-08,\n",
       " 5.15137799099179e-09,\n",
       " 8.149072528122606e-10,\n",
       " 1.030275598198358e-08,\n",
       " 1.862645149285167e-09,\n",
       " 9.255018085510674e-09,\n",
       " 1.7666025087751507e-08,\n",
       " 1.8335413188275864e-09,\n",
       " 7.275957614395184e-10,\n",
       " 1.2136297300811167e-08,\n",
       " 2.6571797207771212e-08,\n",
       " 1.2922100723165847e-08,\n",
       " 8.731149137274221e-09,\n",
       " 1.3387762010487139e-09,\n",
       " 2.2700987756912975e-09,\n",
       " 3.667082637655173e-09,\n",
       " 2.648448571639847e-08,\n",
       " 3.6088749767400113e-09,\n",
       " 2.415617927979201e-09,\n",
       " 8.440110832698414e-10,\n",
       " 2.7357600630125892e-09,\n",
       " 2.0343577489848935e-08,\n",
       " 6.606569513870827e-09,\n",
       " 3.8126017899430765e-09,\n",
       " 4.947651177788725e-09,\n",
       " 2.3865140975216204e-09,\n",
       " 2.561137080267105e-09,\n",
       " 3.5797711462824306e-09,\n",
       " 6.693881005243569e-09,\n",
       " 2.852175384842912e-09,\n",
       " 2.5989720598619598e-08,\n",
       " 7.334165275310346e-09,\n",
       " 1.8306309357818283e-08,\n",
       " 6.72298483570115e-09,\n",
       " 7.770722732174057e-09,\n",
       " 6.8976078184466346e-09,\n",
       " 8.149072528122606e-10,\n",
       " 1.702574081768473e-08,\n",
       " 2.4738255888943626e-09,\n",
       " 1.6880221665396827e-09,\n",
       " 1.891748979742748e-09,\n",
       " 3.6088749767400113e-09,\n",
       " 4.8021320255008215e-09,\n",
       " 2.7939677239277507e-09,\n",
       " 1.300941221453859e-08,\n",
       " 8.643837645901479e-09,\n",
       " 5.93718141334647e-09,\n",
       " 1.105945557388068e-09,\n",
       " 3.521563485367269e-09,\n",
       " 9.89530235557745e-09,\n",
       " 3.201421350333881e-09,\n",
       " 8.818460628646963e-09,\n",
       " 1.1932570487608102e-09,\n",
       " 9.89530235557745e-10,\n",
       " 8.731149137274221e-11,\n",
       " 7.1304384621072805e-09,\n",
       " 9.313225746425836e-10,\n",
       " 1.891748979742748e-08,\n",
       " 4.074536264061303e-10,\n",
       " 2.532033249809524e-09,\n",
       " 9.167706594137932e-09,\n",
       " 9.429641068256159e-09,\n",
       " 2.9103830457580737e-09,\n",
       " 2.572778612450137e-08,\n",
       " 2.048909664213684e-08,\n",
       " 1.7258571461345377e-08,\n",
       " 4.074536264061303e-10,\n",
       " 2.532033249809524e-09,\n",
       " 1.4842953533366176e-09,\n",
       " 8.352799341325671e-09,\n",
       " 1.4755642041993433e-08,\n",
       " 1.143780536982923e-08,\n",
       " 2.4330802262537496e-08,\n",
       " 1.6298145056245212e-09,\n",
       " 1.3358658180029558e-08,\n",
       " 1.3184035197284074e-08,\n",
       " 7.974449545377122e-09,\n",
       " 4.947651177788725e-09,\n",
       " 7.072230801192119e-09,\n",
       " 3.3760443330793654e-09,\n",
       " 7.0140231402769575e-09,\n",
       " 2.2642780095997813e-08,\n",
       " 9.89530235557745e-09,\n",
       " 4.976755008246306e-09,\n",
       " 1.6880221665396827e-09,\n",
       " 4.889443516873564e-09,\n",
       " 3.0559021980459773e-09,\n",
       " 1.2601958588132459e-08,\n",
       " 1.1641532183032295e-09,\n",
       " 1.1350493878456487e-09,\n",
       " 1.1641532183032295e-10,\n",
       " 3.899913281315819e-09,\n",
       " 5.2386894823645326e-09,\n",
       " 1.187436282669294e-08,\n",
       " 1.4377292246044884e-08,\n",
       " 2.211891114776136e-09,\n",
       " 1.0710209608389711e-08,\n",
       " 3.754394129027915e-09,\n",
       " 9.284121915968255e-09,\n",
       " 2.328306436606459e-09]"
      ]
     },
     "metadata": {},
     "execution_count": 77
    }
   ],
   "metadata": {}
  },
  {
   "cell_type": "code",
   "execution_count": 79,
   "source": [
    "# average of all values\n",
    "len(min_hashes)/sum(min_hashes) - 1"
   ],
   "outputs": [
    {
     "output_type": "execute_result",
     "data": {
      "text/plain": [
       "133799603.23286605"
      ]
     },
     "metadata": {},
     "execution_count": 79
    }
   ],
   "metadata": {}
  },
  {
   "cell_type": "code",
   "execution_count": 114,
   "source": [
    "estimates_unsorted = [1/hash_val - 1 for hash_val in min_hashes_unsorted]\n",
    "scatterplt = sns.scatterplot(x = list(range(1,101)),y = estimates_unsorted)\n",
    "scatterplt.axhline(145000000)\n",
    "plt.ylim([100000000,1000000000])"
   ],
   "outputs": [
    {
     "output_type": "execute_result",
     "data": {
      "text/plain": [
       "(100000000.0, 1000000000.0)"
      ]
     },
     "metadata": {},
     "execution_count": 114
    },
    {
     "output_type": "display_data",
     "data": {
      "image/png": "[encoded data removed]",
      "text/plain": [
       "<Figure size 432x288 with 1 Axes>"
      ]
     },
     "metadata": {
      "needs_background": "light"
     }
    }
   ],
   "metadata": {}
  },
  {
   "cell_type": "code",
   "execution_count": 112,
   "source": [
    "estimates_sorted = [1/hash_val - 1 for hash_val in min_hashes]\n",
    "scatterplot_ = sns.scatterplot(x = list(range(1,101)),y = estimates_sorted)\n",
    "scatterplot_.axhline(145000000)\n",
    "plt.ylim([10000000,1000000000])"
   ],
   "outputs": [
    {
     "output_type": "execute_result",
     "data": {
      "text/plain": [
       "(10000000.0, 1000000000.0)"
      ]
     },
     "metadata": {},
     "execution_count": 112
    },
    {
     "output_type": "display_data",
     "data": {
      "image/png": "[encoded data removed]",
      "text/plain": [
       "<Figure size 432x288 with 1 Axes>"
      ]
     },
     "metadata": {
      "needs_background": "light"
     }
    }
   ],
   "metadata": {}
  },
  {
   "cell_type": "markdown",
   "source": [
    "## Taking medians of 1,2,...n values and plotting"
   ],
   "metadata": {}
  },
  {
   "cell_type": "markdown",
   "source": [
    "#### Plotting for unsorted values "
   ],
   "metadata": {}
  },
  {
   "cell_type": "code",
   "execution_count": 142,
   "source": [
    "medians = [statistics.median(estimates_unsorted[0:i]) for i in range(1,101)]\n",
    "scatterplot_ = sns.scatterplot(x = list(range(1,101)),y = medians)\n",
    "scatterplot_.axhline(145000000)\n",
    "#145000000 is estimated number of unique elements\n",
    "plt.ylim([10000000,1000000000])"
   ],
   "outputs": [
    {
     "output_type": "execute_result",
     "data": {
      "text/plain": [
       "(10000000.0, 1000000000.0)"
      ]
     },
     "metadata": {},
     "execution_count": 142
    },
    {
     "output_type": "display_data",
     "data": {
      "image/png": "[encoded data removed]",
      "text/plain": [
       "<Figure size 432x288 with 1 Axes>"
      ]
     },
     "metadata": {
      "needs_background": "light"
     }
    }
   ],
   "metadata": {}
  },
  {
   "cell_type": "markdown",
   "source": [
    "#### Plotting for sorted values"
   ],
   "metadata": {}
  },
  {
   "cell_type": "code",
   "execution_count": 127,
   "source": [
    "medians = [statistics.median(estimates_sorted[0:i]) for i in range(1,101)]\n",
    "scatterplot_ = sns.scatterplot(x = list(range(1,101)),y = medians)\n",
    "scatterplot_.axhline(145000000)\n",
    "#145000000 is estimated number of unique elements\n",
    "plt.ylim([10000000,1000000000])"
   ],
   "outputs": [
    {
     "output_type": "execute_result",
     "data": {
      "text/plain": [
       "(10000000.0, 1000000000.0)"
      ]
     },
     "metadata": {},
     "execution_count": 127
    },
    {
     "output_type": "display_data",
     "data": {
      "image/png": "[encoded data removed]",
      "text/plain": [
       "<Figure size 432x288 with 1 Axes>"
      ]
     },
     "metadata": {
      "needs_background": "light"
     }
    }
   ],
   "metadata": {}
  },
  {
   "cell_type": "code",
   "execution_count": 16,
   "source": [
    "# a_ = getshavalues(seq_[0:3])\n",
    "\n",
    "fn_ = get_ath_hash(2)\n",
    "\n",
    "val_ = fn_(lst_finalb[4])\n",
    "val_/=scale\n",
    "val_"
   ],
   "outputs": [
    {
     "output_type": "execute_result",
     "data": {
      "text/plain": [
       "0.9969014167726535"
      ]
     },
     "metadata": {},
     "execution_count": 16
    }
   ],
   "metadata": {}
  },
  {
   "cell_type": "code",
   "execution_count": 12,
   "source": [],
   "outputs": [
    {
     "output_type": "execute_result",
     "data": {
      "text/plain": [
       "0.7273539886439496"
      ]
     },
     "metadata": {},
     "execution_count": 12
    }
   ],
   "metadata": {}
  },
  {
   "cell_type": "code",
   "execution_count": null,
   "source": [
    "# This will split input string at intervals of 15, incase less than 15 the smaller sequences will be added as well, will check for length of string while checking for double n.\n",
    "# def get15mers(seq_,pos,interval = 15):\n",
    "#     sequence_ = seq_[pos:]\n",
    "#     query_regex = \".{1,\"+str(interval)+\"}\"\n",
    "#     lst_seq = re.findall(query_regex,sequence_)  ### credit to https://stackoverflow.com/questions/9475241/split-string-every-nth-character\n",
    "#     return lst_seq\n",
    "\n",
    "# lst_sample = get15mers(seq_string,0)\n",
    "\n",
    "# arr_seq = []\n",
    "# for i in tqdm(range(0,15)):\n",
    "#     lst_ = get15mers(seq_string,i)\n",
    "#     arr_seq.extend(lst_)\n",
    "\n",
    "# lst_final = []\n",
    "# for i in arr_seq:\n",
    "#     if((len(i)<15) or (i.count(\"n\")>2)):\n",
    "#         #print(i)\n",
    "#         pass\n",
    "#     else:\n",
    "#         #print(i)\n",
    "#         lst_final.append(i)\n",
    "\n",
    "\n"
   ],
   "outputs": [],
   "metadata": {}
  }
 ],
 "metadata": {
  "orig_nbformat": 4,
  "language_info": {
   "name": "python",
   "version": "3.8.8",
   "mimetype": "text/x-python",
   "codemirror_mode": {
    "name": "ipython",
    "version": 3
   },
   "pygments_lexer": "ipython3",
   "nbconvert_exporter": "python",
   "file_extension": ".py"
  },
  "kernelspec": {
   "name": "python3",
   "display_name": "Python 3.8.8 64-bit ('base': conda)"
  },
  "interpreter": {
   "hash": "dca0ade3e726a953b501b15e8e990130d2b7799f14cfd9f4271676035ebe5511"
  }
 },
 "nbformat": 4,
 "nbformat_minor": 2
}