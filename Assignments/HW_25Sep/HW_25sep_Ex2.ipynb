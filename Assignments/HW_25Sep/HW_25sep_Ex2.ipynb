{
 "cells": [
  {
   "cell_type": "code",
   "execution_count": 1,
   "source": [
    "import re\n",
    "from Bio import SeqIO\n",
    "from tqdm.notebook import tqdm\n",
    "import numpy as np"
   ],
   "outputs": [],
   "metadata": {}
  },
  {
   "cell_type": "code",
   "execution_count": 2,
   "source": [
    "seq_ = 0\n",
    "seq_string = \"\"\n",
    "human_genome = SeqIO.parse(\"files/GCA_000001405.28_GRCh38.p13_genomic.fna\", \"fasta\")\n",
    "for chromosome in human_genome:\n",
    "    if chromosome.name == \"CM000664.2\":\n",
    "        seq_string = str(chromosome.seq).lower()\n",
    "        seq_ = seq_string.encode('utf8')\n",
    "        break"
   ],
   "outputs": [],
   "metadata": {}
  },
  {
   "cell_type": "code",
   "execution_count": 3,
   "source": [
    "# Counting ns at the beginning and end of the string\n",
    "print(\"number of ns in first 10000 bases: \",seq_string[:10000].count('n'))\n",
    "print(\"number of ns in first 10000 bases: \",seq_string[-10000:].count('n'))"
   ],
   "outputs": [
    {
     "output_type": "stream",
     "name": "stdout",
     "text": [
      "number of ns in first 10000 bases:  10000\n",
      "number of ns in first 10000 bases:  10000\n"
     ]
    }
   ],
   "metadata": {}
  },
  {
   "cell_type": "code",
   "execution_count": 4,
   "source": [
    "seq_string = seq_string[9999:-9999] #first and last 10000 bps are n's but will leave one n at the beginning and one n at the end.\n",
    "seq_ = seq_[9999:-9999]"
   ],
   "outputs": [],
   "metadata": {}
  },
  {
   "cell_type": "code",
   "execution_count": 6,
   "source": [
    "# One pass quicker method to achieve the splits\n",
    "def getNmers(seq_str,seq_,interval = 15):\n",
    "    lst_seq = []\n",
    "    lst_seqb = []\n",
    "    for i in range(len(seq_str) - interval + 1):\n",
    "        nmer = seq_str[i:i+interval]\n",
    "        nmerb = seq_[i:i+interval]\n",
    "        #print(nmer)\n",
    "        if((len(nmer)<15) or (nmer.count(\"n\")>2)):\n",
    "            # print(nmer)\n",
    "            # print(nmerb)\n",
    "            pass\n",
    "        else:\n",
    "            lst_seq.append(nmer)\n",
    "            lst_seqb.append(nmerb)\n",
    "    return lst_seq,lst_seqb\n",
    "\n",
    "lst_final,lst_finalb = getNmers(seq_string,seq_)"
   ],
   "outputs": [],
   "metadata": {}
  },
  {
   "cell_type": "code",
   "execution_count": null,
   "source": [
    "# This will split input string at intervals of 15, incase less than 15 the smaller sequences will be added as well, will check for length of string while checking for double n.\n",
    "# def get15mers(seq_,pos,interval = 15):\n",
    "#     sequence_ = seq_[pos:]\n",
    "#     query_regex = \".{1,\"+str(interval)+\"}\"\n",
    "#     lst_seq = re.findall(query_regex,sequence_)  ### credit to https://stackoverflow.com/questions/9475241/split-string-every-nth-character\n",
    "#     return lst_seq\n",
    "\n",
    "# lst_sample = get15mers(seq_string,0)\n",
    "\n",
    "# arr_seq = []\n",
    "# for i in tqdm(range(0,15)):\n",
    "#     lst_ = get15mers(seq_string,i)\n",
    "#     arr_seq.extend(lst_)\n",
    "\n",
    "# lst_final = []\n",
    "# for i in arr_seq:\n",
    "#     if((len(i)<15) or (i.count(\"n\")>2)):\n",
    "#         #print(i)\n",
    "#         pass\n",
    "#     else:\n",
    "#         #print(i)\n",
    "#         lst_final.append(i)\n",
    "\n",
    "\n"
   ],
   "outputs": [],
   "metadata": {}
  },
  {
   "cell_type": "code",
   "execution_count": 8,
   "source": [
    "len(lst_finalb)"
   ],
   "outputs": [
    {
     "output_type": "execute_result",
     "data": {
      "text/plain": [
       "240548029"
      ]
     },
     "metadata": {},
     "execution_count": 8
    }
   ],
   "metadata": {}
  },
  {
   "cell_type": "code",
   "execution_count": 12,
   "source": [
    "from hashlib import sha256\n",
    "p = 2_549_536_629_329\n",
    "bits_48 = 2 ** 48 - 1\n",
    "scale = 0x07ffffffff\n",
    "\n",
    "def getshavalues(subseq):\n",
    "    return int(sha256(subseq).hexdigest(), 16) % bits_48\n",
    "def get_ath_hash(a):\n",
    "    def my_hash(sha_value):\n",
    "        return ((sha_value * a) % p) & scale\n",
    "    return my_hash"
   ],
   "outputs": [],
   "metadata": {}
  },
  {
   "cell_type": "code",
   "execution_count": 11,
   "source": [
    "seq_string[0:3]"
   ],
   "outputs": [
    {
     "output_type": "execute_result",
     "data": {
      "text/plain": [
       "'ncg'"
      ]
     },
     "metadata": {},
     "execution_count": 11
    }
   ],
   "metadata": {}
  },
  {
   "cell_type": "code",
   "execution_count": 15,
   "source": [
    "a_ = getshavalues(seq_[0:3])\n",
    "\n",
    "fn_ = get_ath_hash(2)\n",
    "\n",
    "val_ = fn_(a_)\n",
    "val_/=scale"
   ],
   "outputs": [],
   "metadata": {}
  },
  {
   "cell_type": "code",
   "execution_count": 16,
   "source": [
    "val_"
   ],
   "outputs": [
    {
     "output_type": "execute_result",
     "data": {
      "text/plain": [
       "0.20494825801011607"
      ]
     },
     "metadata": {},
     "execution_count": 16
    }
   ],
   "metadata": {}
  }
 ],
 "metadata": {
  "orig_nbformat": 4,
  "language_info": {
   "name": "python",
   "version": "3.8.8",
   "mimetype": "text/x-python",
   "codemirror_mode": {
    "name": "ipython",
    "version": 3
   },
   "pygments_lexer": "ipython3",
   "nbconvert_exporter": "python",
   "file_extension": ".py"
  },
  "kernelspec": {
   "name": "python3",
   "display_name": "Python 3.8.8 64-bit ('base': conda)"
  },
  "interpreter": {
   "hash": "dca0ade3e726a953b501b15e8e990130d2b7799f14cfd9f4271676035ebe5511"
  }
 },
 "nbformat": 4,
 "nbformat_minor": 2
}